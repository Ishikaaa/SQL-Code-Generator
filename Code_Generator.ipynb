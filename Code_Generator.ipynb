{
  "cells": [
    {
      "cell_type": "markdown",
      "metadata": {
        "id": "view-in-github",
        "colab_type": "text"
      },
      "source": [
        "<a href=\"https://colab.research.google.com/github/Ishikaaa/SQL-Code-Generator/blob/main/Code_Generator.ipynb\" target=\"_parent\"><img src=\"https://colab.research.google.com/assets/colab-badge.svg\" alt=\"Open In Colab\"/></a>"
      ]
    },
    {
      "cell_type": "code",
      "execution_count": 15,
      "metadata": {
        "id": "NEd5F1xhK0Oq",
        "colab": {
          "base_uri": "https://localhost:8080/",
          "height": 121
        },
        "outputId": "abdc82cd-e1ac-4c35-868e-9f0146637ffc"
      },
      "outputs": [
        {
          "output_type": "stream",
          "name": "stdout",
          "text": [
            "Enter your query here in plain test: Bring unique age from employee table\n",
            "Query:  \n",
            "SELECT DISTINCT age\n",
            "FROM employee\n",
            "ORDER BY age;\n",
            "\n"
          ]
        }
      ],
      "source": [
        "import google.generativeai as genai\n",
        "\n",
        "GOOGLE_API_Key = \"\"\n",
        "text_input = input(\"Enter your query here in plain test: \")\n",
        "\n",
        "genai.configure(api_key=GOOGLE_API_Key)\n",
        "model = genai.GenerativeModel('gemini-pro')    # free if we are hitting 60 queries per minute\n",
        "\n",
        "response = model.generate_content(text_input)\n",
        "response = response.text.strip().lstrip(\"```sql\").rstrip(\"```\")\n",
        "print(\"Query: \", response)"
      ]
    }
  ],
  "metadata": {
    "colab": {
      "provenance": [],
      "authorship_tag": "ABX9TyON6oLaZrSbm/iR7ddwA46K",
      "include_colab_link": true
    },
    "kernelspec": {
      "display_name": "Python 3",
      "name": "python3"
    },
    "language_info": {
      "name": "python"
    }
  },
  "nbformat": 4,
  "nbformat_minor": 0
}